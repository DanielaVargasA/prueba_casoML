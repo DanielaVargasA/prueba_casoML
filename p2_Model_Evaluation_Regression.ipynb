{
 "cells": [
  {
   "cell_type": "markdown",
   "metadata": {},
   "source": [
    "En este script se entrenan y evaluan distintos modelos utilizando **Regresión Lineal**. El dataset de imput para los modelos es el resultado del script p1. Las métricas que se utilizan para la evaluación de los modelos son $R^2$ y $MSE$ \n",
    "\n",
    "Al final del script se guarda el modelo final en un archivo *.pickel* que puede ser llamado desde otro script."
   ]
  },
  {
   "cell_type": "markdown",
   "metadata": {},
   "source": [
    "**CARGA DE LIBRERIAS**"
   ]
  },
  {
   "cell_type": "code",
   "execution_count": 1,
   "metadata": {},
   "outputs": [],
   "source": [
    "import statsmodels.formula.api as sfm\n",
    "from sklearn.model_selection import train_test_split\n",
    "from statsmodels.tools.eval_measures import mse\n",
    "import matplotlib.pyplot as plt\n",
    "import pandas as pd                         \n",
    "import numpy as np \n",
    "import pickle "
   ]
  },
  {
   "cell_type": "markdown",
   "metadata": {},
   "source": [
    "**CARGA DE DATOS**"
   ]
  },
  {
   "cell_type": "code",
   "execution_count": 2,
   "metadata": {},
   "outputs": [
    {
     "name": "stdout",
     "output_type": "stream",
     "text": [
      "<class 'pandas.core.frame.DataFrame'>\n",
      "RangeIndex: 10469 entries, 0 to 10468\n",
      "Data columns (total 13 columns):\n",
      "banos                 10469 non-null float64\n",
      "dormitorios           10469 non-null float64\n",
      "garajes               10469 non-null float64\n",
      "gastos_comunes        10469 non-null float64\n",
      "m2_del_terreno        10469 non-null float64\n",
      "m2_edificados         10469 non-null float64\n",
      "price                 10469 non-null float64\n",
      "vivienda_social       10469 non-null float64\n",
      "disposición_frente    10469 non-null int64\n",
      "estado_rec_exc        10469 non-null int64\n",
      "zona_cat_1            10469 non-null int64\n",
      "zona_cat_2            10469 non-null int64\n",
      "zona_cat_3            10469 non-null int64\n",
      "dtypes: float64(8), int64(5)\n",
      "memory usage: 1.0 MB\n"
     ]
    }
   ],
   "source": [
    "df= pd.read_csv('dataset_houses_model.csv')\n",
    "df.info()"
   ]
  },
  {
   "cell_type": "markdown",
   "metadata": {},
   "source": [
    "**SEPARACIÓN DEL DATASET EN TRAIN Y TEST**"
   ]
  },
  {
   "cell_type": "code",
   "execution_count": 3,
   "metadata": {},
   "outputs": [],
   "source": [
    "X = df\n",
    "y = df.price \n",
    "X_train, X_test, y_train, y_test = train_test_split(X, y, test_size = 0.2, random_state = 0 )"
   ]
  },
  {
   "cell_type": "markdown",
   "metadata": {},
   "source": [
    "**LISTA DE HIPOTESIS PARA ITERAR EN LOS MODELOS**"
   ]
  },
  {
   "cell_type": "markdown",
   "metadata": {},
   "source": [
    "Se definen posibles hipotesis para predecir *price* iterando sobre todas las variables del dataset. La idea es iterar empezando con las variables numéricas que dieron mayor correlación en la etapa de EDA en el script parte1 y consecutivamente ir agregando variables, por ultimo se agregan las variables categoricas/ dummies. \n",
    "\n",
    "Para cada hipótesis se entrena un modelo y se evaluan las métricas $R^2$ y $MSE$, que también serán guardadas en una lista para al final poder comparar las hipotesis con mejor performance en test."
   ]
  },
  {
   "cell_type": "code",
   "execution_count": 4,
   "metadata": {},
   "outputs": [],
   "source": [
    "formulas = [\"price ~ banos\"\n",
    "           ,\"price ~ banos + m2_edificados\"\n",
    "           ,\"price ~ banos + m2_edificados + vivienda_social\"\n",
    "           ,\"price ~ banos + m2_edificados + vivienda_social + garajes\"\n",
    "           ,\"price ~ banos + m2_edificados + vivienda_social + garajes + gastos_comunes\"\n",
    "           ,\"price ~ banos + m2_edificados + vivienda_social + garajes + gastos_comunes + dormitorios\"\n",
    "           ,\"price ~ banos + m2_edificados + vivienda_social + garajes + gastos_comunes + dormitorios + m2_del_terreno\"\n",
    "           ,\"price ~ banos + m2_edificados + vivienda_social + garajes + gastos_comunes + dormitorios + m2_del_terreno + disposición_frente\"\n",
    "           ,\"price ~ banos + m2_edificados + vivienda_social + garajes + gastos_comunes + dormitorios + m2_del_terreno + disposición_frente + estado_rec_exc\"\n",
    "           ,\"price ~ banos + m2_edificados + vivienda_social + garajes + gastos_comunes + dormitorios + m2_del_terreno + disposición_frente + estado_rec_exc + zona_cat_1+ zona_cat_2 + zona_cat_3\"\n",
    "           ]"
   ]
  },
  {
   "cell_type": "code",
   "execution_count": 5,
   "metadata": {},
   "outputs": [],
   "source": [
    "def train_models(data_train, data_test, formulas ):\n",
    "    models     = []\n",
    "    models_r2  = []\n",
    "    models_mse = []\n",
    "    for formula in formulas:\n",
    "        model     = sfm.ols(formula = formula, data = data_train ).fit()\n",
    "        model_r2  = model.rsquared\n",
    "        ypred     = model.predict(data_test)\n",
    "        model_mse = mse(data_test.price, ypred)\n",
    "        models.append(model)\n",
    "        models_r2.append(model_r2)\n",
    "        models_mse.append(model_mse)\n",
    "    return [models, models_r2, models_mse ]"
   ]
  },
  {
   "cell_type": "code",
   "execution_count": 6,
   "metadata": {},
   "outputs": [],
   "source": [
    "models_metrics     = train_models(X_train, X_test, formulas )\n",
    "models_metrics_r2  = models_metrics[1]\n",
    "models_metrics_mse = models_metrics[2]"
   ]
  },
  {
   "cell_type": "code",
   "execution_count": 7,
   "metadata": {},
   "outputs": [
    {
     "data": {
      "text/plain": [
       "[0.543275072963497,\n",
       " 0.6264894272688428,\n",
       " 0.6264898296937325,\n",
       " 0.6535503904999382,\n",
       " 0.6959560681488269,\n",
       " 0.7017952853889933,\n",
       " 0.701922198625214,\n",
       " 0.7019226402951326,\n",
       " 0.7031205606483109,\n",
       " 0.7567868464401106]"
      ]
     },
     "execution_count": 7,
     "metadata": {},
     "output_type": "execute_result"
    }
   ],
   "source": [
    "models_metrics_r2"
   ]
  },
  {
   "cell_type": "code",
   "execution_count": 8,
   "metadata": {},
   "outputs": [
    {
     "data": {
      "text/plain": [
       "[9942741010.010231,\n",
       " 7996886255.959199,\n",
       " 7996830054.019375,\n",
       " 7545550567.123666,\n",
       " 6327332345.174154,\n",
       " 6116836600.619128,\n",
       " 6114185879.416107,\n",
       " 6113703198.90937,\n",
       " 6095320012.894453,\n",
       " 5008336772.526091]"
      ]
     },
     "execution_count": 8,
     "metadata": {},
     "output_type": "execute_result"
    }
   ],
   "source": [
    "models_metrics_mse"
   ]
  },
  {
   "cell_type": "markdown",
   "metadata": {},
   "source": [
    "$$R^2$$"
   ]
  },
  {
   "cell_type": "code",
   "execution_count": 9,
   "metadata": {},
   "outputs": [
    {
     "data": {
      "image/png": "[encoded data removed]",
      "text/plain": [
       "<Figure size 432x288 with 1 Axes>"
      ]
     },
     "metadata": {
      "needs_background": "light"
     },
     "output_type": "display_data"
    }
   ],
   "source": [
    "x_data = list(range(1,11))\n",
    "y_data = models_metrics_r2\n",
    "\n",
    "plt.plot(x_data, y_data)\n",
    "plt.xlabel('x')\n",
    "plt.ylabel('y')\n",
    "plt.title('r2')\n",
    "plt.show()"
   ]
  },
  {
   "cell_type": "markdown",
   "metadata": {},
   "source": [
    "$$MSE$$"
   ]
  },
  {
   "cell_type": "code",
   "execution_count": 10,
   "metadata": {},
   "outputs": [
    {
     "data": {
      "image/png": "[encoded data removed]",
      "text/plain": [
       "<Figure size 432x288 with 1 Axes>"
      ]
     },
     "metadata": {
      "needs_background": "light"
     },
     "output_type": "display_data"
    }
   ],
   "source": [
    "x_data = list(range(1,11))\n",
    "y_data = models_metrics_mse\n",
    "\n",
    "plt.plot(x_data, y_data)\n",
    "plt.xlabel('x')\n",
    "plt.ylabel('y')\n",
    "plt.title('models_metrics_mse')\n",
    "plt.show()"
   ]
  },
  {
   "cell_type": "markdown",
   "metadata": {},
   "source": [
    "**MODELO CON MEJOR PERFORMANCE DEL CONJUNTO DE FORMULAS INICIAL**"
   ]
  },
  {
   "cell_type": "markdown",
   "metadata": {},
   "source": [
    "La hipotesis que mejor predice a *price* es la hipotesis que incluye todas las variables, esto es:"
   ]
  },
  {
   "cell_type": "code",
   "execution_count": 11,
   "metadata": {},
   "outputs": [
    {
     "data": {
      "text/html": [
       "<table class=\"simpletable\">\n",
       "<caption>OLS Regression Results</caption>\n",
       "<tr>\n",
       "  <th>Dep. Variable:</th>          <td>price</td>      <th>  R-squared:         </th>  <td>   0.757</td>  \n",
       "</tr>\n",
       "<tr>\n",
       "  <th>Model:</th>                   <td>OLS</td>       <th>  Adj. R-squared:    </th>  <td>   0.756</td>  \n",
       "</tr>\n",
       "<tr>\n",
       "  <th>Method:</th>             <td>Least Squares</td>  <th>  F-statistic:       </th>  <td>   2366.</td>  \n",
       "</tr>\n",
       "<tr>\n",
       "  <th>Date:</th>             <td>Mon, 24 May 2021</td> <th>  Prob (F-statistic):</th>   <td>  0.00</td>   \n",
       "</tr>\n",
       "<tr>\n",
       "  <th>Time:</th>                 <td>10:43:58</td>     <th>  Log-Likelihood:    </th> <td>-1.0522e+05</td>\n",
       "</tr>\n",
       "<tr>\n",
       "  <th>No. Observations:</th>      <td>  8375</td>      <th>  AIC:               </th>  <td>2.105e+05</td> \n",
       "</tr>\n",
       "<tr>\n",
       "  <th>Df Residuals:</th>          <td>  8363</td>      <th>  BIC:               </th>  <td>2.106e+05</td> \n",
       "</tr>\n",
       "<tr>\n",
       "  <th>Df Model:</th>              <td>    11</td>      <th>                     </th>      <td> </td>     \n",
       "</tr>\n",
       "<tr>\n",
       "  <th>Covariance Type:</th>      <td>nonrobust</td>    <th>                     </th>      <td> </td>     \n",
       "</tr>\n",
       "</table>\n",
       "<table class=\"simpletable\">\n",
       "<tr>\n",
       "           <td></td>             <th>coef</th>     <th>std err</th>      <th>t</th>      <th>P>|t|</th>  <th>[0.025</th>    <th>0.975]</th>  \n",
       "</tr>\n",
       "<tr>\n",
       "  <th>Intercept</th>          <td> -234.3472</td> <td> 1843.933</td> <td>   -0.127</td> <td> 0.899</td> <td>-3848.912</td> <td> 3380.217</td>\n",
       "</tr>\n",
       "<tr>\n",
       "  <th>banos</th>              <td> 4.041e+04</td> <td> 1747.872</td> <td>   23.118</td> <td> 0.000</td> <td>  3.7e+04</td> <td> 4.38e+04</td>\n",
       "</tr>\n",
       "<tr>\n",
       "  <th>m2_edificados</th>      <td> 1012.7692</td> <td>   26.265</td> <td>   38.560</td> <td> 0.000</td> <td>  961.283</td> <td> 1064.255</td>\n",
       "</tr>\n",
       "<tr>\n",
       "  <th>vivienda_social</th>    <td> 2.378e+04</td> <td> 2791.717</td> <td>    8.519</td> <td> 0.000</td> <td> 1.83e+04</td> <td> 2.93e+04</td>\n",
       "</tr>\n",
       "<tr>\n",
       "  <th>garajes</th>            <td> 2.249e+04</td> <td> 1269.932</td> <td>   17.711</td> <td> 0.000</td> <td>    2e+04</td> <td>  2.5e+04</td>\n",
       "</tr>\n",
       "<tr>\n",
       "  <th>gastos_comunes</th>     <td>    4.6826</td> <td>    0.162</td> <td>   28.849</td> <td> 0.000</td> <td>    4.364</td> <td>    5.001</td>\n",
       "</tr>\n",
       "<tr>\n",
       "  <th>dormitorios</th>        <td>-3366.3355</td> <td> 1062.884</td> <td>   -3.167</td> <td> 0.002</td> <td>-5449.852</td> <td>-1282.819</td>\n",
       "</tr>\n",
       "<tr>\n",
       "  <th>m2_del_terreno</th>     <td>   46.6301</td> <td>   10.173</td> <td>    4.584</td> <td> 0.000</td> <td>   26.688</td> <td>   66.572</td>\n",
       "</tr>\n",
       "<tr>\n",
       "  <th>disposición_frente</th> <td> -408.0718</td> <td> 1785.008</td> <td>   -0.229</td> <td> 0.819</td> <td>-3907.131</td> <td> 3090.987</td>\n",
       "</tr>\n",
       "<tr>\n",
       "  <th>estado_rec_exc</th>     <td> 8216.2205</td> <td> 1693.957</td> <td>    4.850</td> <td> 0.000</td> <td> 4895.645</td> <td> 1.15e+04</td>\n",
       "</tr>\n",
       "<tr>\n",
       "  <th>zona_cat_1</th>         <td> -6.82e+04</td> <td> 2879.033</td> <td>  -23.690</td> <td> 0.000</td> <td>-7.38e+04</td> <td>-6.26e+04</td>\n",
       "</tr>\n",
       "<tr>\n",
       "  <th>zona_cat_2</th>         <td> 2039.8130</td> <td> 1413.164</td> <td>    1.443</td> <td> 0.149</td> <td> -730.339</td> <td> 4809.965</td>\n",
       "</tr>\n",
       "<tr>\n",
       "  <th>zona_cat_3</th>         <td> 6.593e+04</td> <td> 1575.850</td> <td>   41.838</td> <td> 0.000</td> <td> 6.28e+04</td> <td>  6.9e+04</td>\n",
       "</tr>\n",
       "</table>\n",
       "<table class=\"simpletable\">\n",
       "<tr>\n",
       "  <th>Omnibus:</th>       <td>2172.157</td> <th>  Durbin-Watson:     </th> <td>   1.992</td> \n",
       "</tr>\n",
       "<tr>\n",
       "  <th>Prob(Omnibus):</th>  <td> 0.000</td>  <th>  Jarque-Bera (JB):  </th> <td>12008.005</td>\n",
       "</tr>\n",
       "<tr>\n",
       "  <th>Skew:</th>           <td> 1.131</td>  <th>  Prob(JB):          </th> <td>    0.00</td> \n",
       "</tr>\n",
       "<tr>\n",
       "  <th>Kurtosis:</th>       <td> 8.412</td>  <th>  Cond. No.          </th> <td>1.02e+20</td> \n",
       "</tr>\n",
       "</table><br/><br/>Warnings:<br/>[1] Standard Errors assume that the covariance matrix of the errors is correctly specified.<br/>[2] The smallest eigenvalue is 3.84e-29. This might indicate that there are<br/>strong multicollinearity problems or that the design matrix is singular."
      ],
      "text/plain": [
       "<class 'statsmodels.iolib.summary.Summary'>\n",
       "\"\"\"\n",
       "                            OLS Regression Results                            \n",
       "==============================================================================\n",
       "Dep. Variable:                  price   R-squared:                       0.757\n",
       "Model:                            OLS   Adj. R-squared:                  0.756\n",
       "Method:                 Least Squares   F-statistic:                     2366.\n",
       "Date:                Mon, 24 May 2021   Prob (F-statistic):               0.00\n",
       "Time:                        10:43:58   Log-Likelihood:            -1.0522e+05\n",
       "No. Observations:                8375   AIC:                         2.105e+05\n",
       "Df Residuals:                    8363   BIC:                         2.106e+05\n",
       "Df Model:                          11                                         \n",
       "Covariance Type:            nonrobust                                         \n",
       "======================================================================================\n",
       "                         coef    std err          t      P>|t|      [0.025      0.975]\n",
       "--------------------------------------------------------------------------------------\n",
       "Intercept           -234.3472   1843.933     -0.127      0.899   -3848.912    3380.217\n",
       "banos               4.041e+04   1747.872     23.118      0.000     3.7e+04    4.38e+04\n",
       "m2_edificados       1012.7692     26.265     38.560      0.000     961.283    1064.255\n",
       "vivienda_social     2.378e+04   2791.717      8.519      0.000    1.83e+04    2.93e+04\n",
       "garajes             2.249e+04   1269.932     17.711      0.000       2e+04     2.5e+04\n",
       "gastos_comunes         4.6826      0.162     28.849      0.000       4.364       5.001\n",
       "dormitorios        -3366.3355   1062.884     -3.167      0.002   -5449.852   -1282.819\n",
       "m2_del_terreno        46.6301     10.173      4.584      0.000      26.688      66.572\n",
       "disposición_frente  -408.0718   1785.008     -0.229      0.819   -3907.131    3090.987\n",
       "estado_rec_exc      8216.2205   1693.957      4.850      0.000    4895.645    1.15e+04\n",
       "zona_cat_1          -6.82e+04   2879.033    -23.690      0.000   -7.38e+04   -6.26e+04\n",
       "zona_cat_2          2039.8130   1413.164      1.443      0.149    -730.339    4809.965\n",
       "zona_cat_3          6.593e+04   1575.850     41.838      0.000    6.28e+04     6.9e+04\n",
       "==============================================================================\n",
       "Omnibus:                     2172.157   Durbin-Watson:                   1.992\n",
       "Prob(Omnibus):                  0.000   Jarque-Bera (JB):            12008.005\n",
       "Skew:                           1.131   Prob(JB):                         0.00\n",
       "Kurtosis:                       8.412   Cond. No.                     1.02e+20\n",
       "==============================================================================\n",
       "\n",
       "Warnings:\n",
       "[1] Standard Errors assume that the covariance matrix of the errors is correctly specified.\n",
       "[2] The smallest eigenvalue is 3.84e-29. This might indicate that there are\n",
       "strong multicollinearity problems or that the design matrix is singular.\n",
       "\"\"\""
      ]
     },
     "execution_count": 11,
     "metadata": {},
     "output_type": "execute_result"
    }
   ],
   "source": [
    "models_metrics[0][9].summary()"
   ]
  },
  {
   "cell_type": "markdown",
   "metadata": {},
   "source": [
    "### **MODELO FINAL**"
   ]
  },
  {
   "cell_type": "markdown",
   "metadata": {},
   "source": [
    "Para esta hipotesis $R^2 = 0.757$ y $MSE = 5.008.336.772$. Sin embargo al ver los *p-values* de las variables en el summary, se ve que algunas variables no son significativas para el modelo.\n",
    "\n",
    "Para mejorar el performance del modelo se eliminan las variables con *p-value > 0.05* y se corre el modelo de nuevo. Esto implica también eliminar el intercepto"
   ]
  },
  {
   "cell_type": "code",
   "execution_count": 12,
   "metadata": {},
   "outputs": [
    {
     "name": "stdout",
     "output_type": "stream",
     "text": [
      "Wall time: 87.7 ms\n"
     ]
    }
   ],
   "source": [
    "%%time\n",
    "formula_final = \"price ~ banos + m2_edificados + vivienda_social + garajes + gastos_comunes + dormitorios + m2_del_terreno + estado_rec_exc + zona_cat_1 + zona_cat_3 -1\"\n",
    "model_final_regression = sfm.ols(formula = formula_final, data = X_train ).fit()"
   ]
  },
  {
   "cell_type": "code",
   "execution_count": 13,
   "metadata": {},
   "outputs": [],
   "source": [
    "model_final_r2  = model_final_regression.rsquared\n",
    "model_final_ypred = model_final_regression.predict(X_test)\n",
    "model_mse = mse(X_test.price, model_final_ypred)"
   ]
  },
  {
   "cell_type": "code",
   "execution_count": 14,
   "metadata": {},
   "outputs": [
    {
     "name": "stdout",
     "output_type": "stream",
     "text": [
      "R2 del modelo final:  0.9295038922639968\n",
      "MSE del modelo final:  5007395412.426304\n"
     ]
    }
   ],
   "source": [
    "print('R2 del modelo final: ', model_final_r2)\n",
    "print('MSE del modelo final: ', model_mse)"
   ]
  },
  {
   "cell_type": "markdown",
   "metadata": {},
   "source": [
    "De los *p-values* se ve como ahora todas las variables son significativas para el modelo."
   ]
  },
  {
   "cell_type": "code",
   "execution_count": 15,
   "metadata": {},
   "outputs": [
    {
     "data": {
      "text/plain": [
       "banos              1.306601e-138\n",
       "m2_edificados      1.005042e-299\n",
       "vivienda_social     2.820871e-20\n",
       "garajes             1.405003e-69\n",
       "gastos_comunes     8.825067e-179\n",
       "dormitorios         1.643717e-03\n",
       "m2_del_terreno      5.777904e-06\n",
       "estado_rec_exc      5.990010e-07\n",
       "zona_cat_1          1.079238e-71\n",
       "zona_cat_3         4.859042e-275\n",
       "dtype: float64"
      ]
     },
     "execution_count": 15,
     "metadata": {},
     "output_type": "execute_result"
    }
   ],
   "source": [
    "model_final_regression.pvalues"
   ]
  },
  {
   "cell_type": "markdown",
   "metadata": {},
   "source": [
    "**SE GUARDA EL MODELO FINAL EN UN .pickle FILE**"
   ]
  },
  {
   "cell_type": "code",
   "execution_count": 16,
   "metadata": {},
   "outputs": [
    {
     "data": {
      "text/plain": [
       "\"\\nwith open('model_final_regression.pickle', 'wb') as pickle_file:\\n    pickle.dump(model_final_regression, pickle_file)\\n\""
      ]
     },
     "execution_count": 16,
     "metadata": {},
     "output_type": "execute_result"
    }
   ],
   "source": [
    "with open('model_final_regression.pickle', 'wb') as pickle_file:\n",
    "    pickle.dump(model_final_regression, pickle_file)"
   ]
  }
 ],
 "metadata": {
  "kernelspec": {
   "display_name": "Python 3",
   "language": "python",
   "name": "python3"
  },
  "language_info": {
   "codemirror_mode": {
    "name": "ipython",
    "version": 3
   },
   "file_extension": ".py",
   "mimetype": "text/x-python",
   "name": "python",
   "nbconvert_exporter": "python",
   "pygments_lexer": "ipython3",
   "version": "3.7.4"
  }
 },
 "nbformat": 4,
 "nbformat_minor": 2
}
