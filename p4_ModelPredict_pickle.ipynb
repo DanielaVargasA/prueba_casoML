{
 "cells": [
  {
   "cell_type": "markdown",
   "metadata": {},
   "source": [
    "En este script se llaman los modelos previamente entrenados con **Regresión Lineal** y **Gradient Boosting** utilizando los archivos *.pickle*.\n",
    "\n",
    "Se hace una breve comparación de los valores predichos para cada modelo vs el valor real. Para esto se usa todo el dataset."
   ]
  },
  {
   "cell_type": "markdown",
   "metadata": {},
   "source": [
    "**CARGA DE LIBRERIAS**"
   ]
  },
  {
   "cell_type": "code",
   "execution_count": 20,
   "metadata": {},
   "outputs": [],
   "source": [
    "import pickle\n",
    "import pandas as pd \n",
    "import matplotlib.pyplot as plt"
   ]
  },
  {
   "cell_type": "markdown",
   "metadata": {},
   "source": [
    "**CARGA DE MODELOS**"
   ]
  },
  {
   "cell_type": "code",
   "execution_count": 2,
   "metadata": {},
   "outputs": [],
   "source": [
    "# Load pickle    \n",
    "with open('model_final_regression.pickle', 'rb') as pickle_file:\n",
    "    model_final_regression = pickle.load(pickle_file) "
   ]
  },
  {
   "cell_type": "code",
   "execution_count": 3,
   "metadata": {},
   "outputs": [],
   "source": [
    "with open('model_final_gbr.pickle', 'rb') as pickle_file:\n",
    "    model_final_gbr = pickle.load(pickle_file) "
   ]
  },
  {
   "cell_type": "markdown",
   "metadata": {},
   "source": [
    "**CARGA DE DATOS**"
   ]
  },
  {
   "cell_type": "code",
   "execution_count": 6,
   "metadata": {},
   "outputs": [
    {
     "name": "stdout",
     "output_type": "stream",
     "text": [
      "<class 'pandas.core.frame.DataFrame'>\n",
      "RangeIndex: 10469 entries, 0 to 10468\n",
      "Data columns (total 13 columns):\n",
      "banos                 10469 non-null float64\n",
      "dormitorios           10469 non-null float64\n",
      "garajes               10469 non-null float64\n",
      "gastos_comunes        10469 non-null float64\n",
      "m2_del_terreno        10469 non-null float64\n",
      "m2_edificados         10469 non-null float64\n",
      "price                 10469 non-null float64\n",
      "vivienda_social       10469 non-null float64\n",
      "disposición_frente    10469 non-null int64\n",
      "estado_rec_exc        10469 non-null int64\n",
      "zona_cat_1            10469 non-null int64\n",
      "zona_cat_2            10469 non-null int64\n",
      "zona_cat_3            10469 non-null int64\n",
      "dtypes: float64(8), int64(5)\n",
      "memory usage: 1.0 MB\n"
     ]
    }
   ],
   "source": [
    "df= pd.read_csv('dataset_houses_model.csv')\n",
    "df.info()"
   ]
  },
  {
   "cell_type": "code",
   "execution_count": 9,
   "metadata": {},
   "outputs": [],
   "source": [
    "X = df.drop(columns =['price'])\n",
    "y = df.price "
   ]
  },
  {
   "cell_type": "markdown",
   "metadata": {},
   "source": [
    "**COMPARACIÓN PREDICTOR PARA CADA MODELO VS VALOR REAL, APLICADO A UN UNICO VALOR EN EL DATASET**"
   ]
  },
  {
   "cell_type": "markdown",
   "metadata": {},
   "source": [
    "La idea es ver cual es resultado predicho para el precio para los valores correspondientes a la primer fila del dataframe"
   ]
  },
  {
   "cell_type": "code",
   "execution_count": 12,
   "metadata": {},
   "outputs": [
    {
     "data": {
      "text/html": [
       "<div>\n",
       "<style scoped>\n",
       "    .dataframe tbody tr th:only-of-type {\n",
       "        vertical-align: middle;\n",
       "    }\n",
       "\n",
       "    .dataframe tbody tr th {\n",
       "        vertical-align: top;\n",
       "    }\n",
       "\n",
       "    .dataframe thead th {\n",
       "        text-align: right;\n",
       "    }\n",
       "</style>\n",
       "<table border=\"1\" class=\"dataframe\">\n",
       "  <thead>\n",
       "    <tr style=\"text-align: right;\">\n",
       "      <th></th>\n",
       "      <th>banos</th>\n",
       "      <th>dormitorios</th>\n",
       "      <th>garajes</th>\n",
       "      <th>gastos_comunes</th>\n",
       "      <th>m2_del_terreno</th>\n",
       "      <th>m2_edificados</th>\n",
       "      <th>vivienda_social</th>\n",
       "      <th>disposición_frente</th>\n",
       "      <th>estado_rec_exc</th>\n",
       "      <th>zona_cat_1</th>\n",
       "      <th>zona_cat_2</th>\n",
       "      <th>zona_cat_3</th>\n",
       "    </tr>\n",
       "  </thead>\n",
       "  <tbody>\n",
       "    <tr>\n",
       "      <td>0</td>\n",
       "      <td>1.0</td>\n",
       "      <td>1.0</td>\n",
       "      <td>0.0</td>\n",
       "      <td>5000.0</td>\n",
       "      <td>45.0</td>\n",
       "      <td>45.0</td>\n",
       "      <td>0.0</td>\n",
       "      <td>0</td>\n",
       "      <td>1</td>\n",
       "      <td>0</td>\n",
       "      <td>0</td>\n",
       "      <td>1</td>\n",
       "    </tr>\n",
       "  </tbody>\n",
       "</table>\n",
       "</div>"
      ],
      "text/plain": [
       "   banos  dormitorios  garajes  gastos_comunes  m2_del_terreno  m2_edificados  \\\n",
       "0    1.0          1.0      0.0          5000.0            45.0           45.0   \n",
       "\n",
       "   vivienda_social  disposición_frente  estado_rec_exc  zona_cat_1  \\\n",
       "0              0.0                   0               1           0   \n",
       "\n",
       "   zona_cat_2  zona_cat_3  \n",
       "0           0           1  "
      ]
     },
     "execution_count": 12,
     "metadata": {},
     "output_type": "execute_result"
    }
   ],
   "source": [
    "X[:1]"
   ]
  },
  {
   "cell_type": "code",
   "execution_count": 47,
   "metadata": {},
   "outputs": [
    {
     "name": "stdout",
     "output_type": "stream",
     "text": [
      "Valor real de price 150.000 USD: \n",
      " 0    150000.0\n",
      "Name: price, dtype: float64\n",
      "Valor price predicho por la Regresión Lineal 181.310 USD: \n",
      " 0    181309.89632\n",
      "dtype: float64\n",
      "Valor price predicho por Gradient Boosting 150.536 USD: \n",
      " [150535.68477218]\n"
     ]
    }
   ],
   "source": [
    "print('Valor real de price 150.000 USD: \\n', y[:1])\n",
    "print('Valor price predicho por la Regresión Lineal 181.310 USD: \\n' ,model_final_regression.predict(X[:1]))\n",
    "print('Valor price predicho por Gradient Boosting 150.536 USD: \\n' ,model_final_gbr.predict(X[:1]))"
   ]
  },
  {
   "cell_type": "markdown",
   "metadata": {},
   "source": [
    "Para este único valor el modelo de Gradient Boosting tiene una mejor predicción."
   ]
  },
  {
   "cell_type": "markdown",
   "metadata": {},
   "source": [
    "**COMPARACIÓN PREDICTOR PARA CADA MODELO VS VALOR REAL, APLICADO A TODO EL DATASET**"
   ]
  },
  {
   "cell_type": "code",
   "execution_count": 22,
   "metadata": {},
   "outputs": [],
   "source": [
    "mr_predict  =  model_final_regression.predict(X)\n",
    "mgb_predict =  model_final_gbr.predict(X)\n",
    "y_real      = y"
   ]
  },
  {
   "cell_type": "markdown",
   "metadata": {},
   "source": [
    "SCATTER PLOT para x= valor real, y= valor predicho por Regresión lineal"
   ]
  },
  {
   "cell_type": "code",
   "execution_count": 56,
   "metadata": {},
   "outputs": [
    {
     "data": {
      "text/plain": [
       "Text(0, 0.5, 'Predicción Regresión lineal')"
      ]
     },
     "execution_count": 56,
     "metadata": {},
     "output_type": "execute_result"
    },
    {
     "data": {
      "image/png": "[encoded data removed]",
      "text/plain": [
       "<Figure size 432x288 with 1 Axes>"
      ]
     },
     "metadata": {
      "needs_background": "light"
     },
     "output_type": "display_data"
    }
   ],
   "source": [
    "g = plt.scatter(y_real, mr_predict)\n",
    "g.axes.set_xlabel('y real')\n",
    "g.axes.set_ylabel('Predicción Regresión lineal')"
   ]
  },
  {
   "cell_type": "markdown",
   "metadata": {},
   "source": [
    "SCATTER PLOT para x= valor real, y= valor predicho por Gradient Boosting"
   ]
  },
  {
   "cell_type": "code",
   "execution_count": 59,
   "metadata": {},
   "outputs": [
    {
     "data": {
      "text/plain": [
       "Text(0, 0.5, 'Predicción Gradient Boosting')"
      ]
     },
     "execution_count": 59,
     "metadata": {},
     "output_type": "execute_result"
    },
    {
     "data": {
      "image/png": "[encoded data removed]",
      "text/plain": [
       "<Figure size 432x288 with 1 Axes>"
      ]
     },
     "metadata": {
      "needs_background": "light"
     },
     "output_type": "display_data"
    }
   ],
   "source": [
    "g = plt.scatter(y_real, mgb_predict, c='green')\n",
    "g.axes.set_xlabel('y real')\n",
    "g.axes.set_ylabel('Predicción Gradient Boosting')"
   ]
  },
  {
   "cell_type": "markdown",
   "metadata": {},
   "source": [
    "**Conclusión**"
   ]
  },
  {
   "cell_type": "markdown",
   "metadata": {},
   "source": [
    "En los scatter plot se ve la fuerte correlación entre los valores predichos vs el valor real. La correlación es más fuerte para el modelo entrenado con *Gradient Boosting*, pues los valores tienen una disperción más baja.\n",
    "Además los valores predichos por *Regresión lineal* son un poco más pequeños."
   ]
  }
 ],
 "metadata": {
  "kernelspec": {
   "display_name": "Python 3",
   "language": "python",
   "name": "python3"
  },
  "language_info": {
   "codemirror_mode": {
    "name": "ipython",
    "version": 3
   },
   "file_extension": ".py",
   "mimetype": "text/x-python",
   "name": "python",
   "nbconvert_exporter": "python",
   "pygments_lexer": "ipython3",
   "version": "3.7.4"
  }
 },
 "nbformat": 4,
 "nbformat_minor": 2
}
